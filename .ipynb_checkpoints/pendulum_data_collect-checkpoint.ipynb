{
 "cells": [
  {
   "cell_type": "markdown",
   "metadata": {},
   "source": [
    "python pendulum.ipynb\n",
    "\n",
    "Simple code to read time and angle from a rotary encoder as sent through an Arduino.\n",
    "\n",
    "* v1.0 August 2018, R. Knobel\n",
    "* v1.1 Sept 2019, R. Knobel and S. Gillen:  Changed time.clock() to time.perf_counter(), and removed time.sleep for improved performance."
   ]
  },
  {
   "cell_type": "code",
   "execution_count": 1,
   "metadata": {},
   "outputs": [],
   "source": [
    "import time\n",
    "from serial import Serial\n",
    "import numpy as np\n",
    "import matplotlib.pyplot as plt\n",
    "%matplotlib inline"
   ]
  },
  {
   "cell_type": "markdown",
   "metadata": {},
   "source": [
    "Change 'com4' below to the com port chosen by Windows to connect to the Arduino.  It can be found in Device Manager, or the Arduino IDE."
   ]
  },
  {
   "cell_type": "code",
   "execution_count": 2,
   "metadata": {},
   "outputs": [],
   "source": [
    "ArduinoSerial = Serial('COM3',38400)"
   ]
  },
  {
   "cell_type": "code",
   "execution_count": 3,
   "metadata": {},
   "outputs": [
    {
     "name": "stdout",
     "output_type": "stream",
     "text": [
      "Serial<id=0x19e0e265d00, open=True>(port='COM3', baudrate=38400, bytesize=8, parity='N', stopbits=1, timeout=None, xonxoff=False, rtscts=False, dsrdtr=False)\n"
     ]
    }
   ],
   "source": [
    "print(ArduinoSerial)"
   ]
  },
  {
   "cell_type": "code",
   "execution_count": 4,
   "metadata": {},
   "outputs": [],
   "source": [
    "#time.sleep(3)\n",
    "#ArduinoSerial.readline()"
   ]
  },
  {
   "cell_type": "markdown",
   "metadata": {},
   "source": [
    "Change the variable below to collect for more or less time, set in seconds."
   ]
  },
  {
   "cell_type": "code",
   "execution_count": 5,
   "metadata": {},
   "outputs": [],
   "source": [
    "collect_time = 1"
   ]
  },
  {
   "cell_type": "code",
   "execution_count": null,
   "metadata": {},
   "outputs": [],
   "source": [
    "ArduinoSerial.write(b's')\n",
    "start= time.perf_counter()\n",
    "t=start\n",
    "i=0\n",
    "#print ('initially:',t-start)\n",
    "times=[]\n",
    "angles=[]\n",
    "mystrings = []\n",
    "\n",
    "while ((ArduinoSerial.in_waiting > 0) or (t-start < collect_time)):\n",
    "    c = ArduinoSerial.readline()[:-2]\n",
    "    #print(c)\n",
    "    a,ti = np.fromstring(c, count=2, sep=',')\n",
    "#    print(a,ti)\n",
    "    times = np.append(times,ti*1e-6)\n",
    "    angles = np.append(angles,a)\n",
    "#    time.sleep(.02)\n",
    "    t = time.perf_counter()\n",
    "    print(t)\n",
    "#    print(t-start)\n",
    "\n",
    "ArduinoSerial.write(b'q')\n",
    "i=1\n",
    "ArduinoSerial.close()"
   ]
  },
  {
   "cell_type": "code",
   "execution_count": null,
   "metadata": {},
   "outputs": [],
   "source": [
    "print(ArduinoSerial.in_waiting)  #check everything is closed - this should give an error."
   ]
  },
  {
   "cell_type": "code",
   "execution_count": null,
   "metadata": {},
   "outputs": [],
   "source": [
    "ArduinoSerial.close() #check everything is closed "
   ]
  },
  {
   "cell_type": "code",
   "execution_count": null,
   "metadata": {},
   "outputs": [],
   "source": [
    "plt.plot(times,angles)"
   ]
  },
  {
   "cell_type": "code",
   "execution_count": null,
   "metadata": {},
   "outputs": [],
   "source": [
    "np.savetxt('testdata1.csv',np.transpose([times,angles]),delimiter=',')"
   ]
  }
 ],
 "metadata": {
  "anaconda-cloud": {},
  "kernelspec": {
   "display_name": "Python 3 (ipykernel)",
   "language": "python",
   "name": "python3"
  },
  "language_info": {
   "codemirror_mode": {
    "name": "ipython",
    "version": 3
   },
   "file_extension": ".py",
   "mimetype": "text/x-python",
   "name": "python",
   "nbconvert_exporter": "python",
   "pygments_lexer": "ipython3",
   "version": "3.9.7"
  },
  "vscode": {
   "interpreter": {
    "hash": "578e34faf9048d67141d94870028f15481dd09c96cadbed5a1d53fe25c9c5b8f"
   }
  }
 },
 "nbformat": 4,
 "nbformat_minor": 1
}
