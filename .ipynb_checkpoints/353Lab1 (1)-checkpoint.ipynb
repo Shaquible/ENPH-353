{
 "cells": [
  {
   "cell_type": "markdown",
   "id": "108ea3be-a58a-476e-853f-7620e208d736",
   "metadata": {},
   "source": [
    "## Calculations"
   ]
  },
  {
   "cell_type": "code",
   "execution_count": 8,
   "id": "37dd1fa2-f64d-4315-a7c6-4065921f0456",
   "metadata": {},
   "outputs": [],
   "source": [
    "import numpy as np\n",
    "import matplotlib.pyplot as plt"
   ]
  },
  {
   "cell_type": "code",
   "execution_count": 9,
   "id": "164170a3-f17d-4639-b69a-147ef8f5c911",
   "metadata": {},
   "outputs": [],
   "source": [
    "from uncertainties import ufloat\n",
    "from uncertainties.umath import *"
   ]
  },
  {
   "cell_type": "markdown",
   "id": "339cfac6-9377-4c86-ad74-52787e15b810",
   "metadata": {},
   "source": [
    "#### 1"
   ]
  },
  {
   "cell_type": "code",
   "execution_count": 10,
   "id": "3300598a-c0f1-449e-bb91-2231c626d2b5",
   "metadata": {},
   "outputs": [],
   "source": [
    "l_r = ufloat(.00895, .00005)\n",
    "d_r = ufloat(.60041, .00005)\n",
    "m_r = ufloat(.10030, .00005)\n",
    "l_d = ufloat(.01643, .00005)\n",
    "d_d = ufloat(.10170, .00005)\n",
    "m_d = ufloat(1.0268, .00005)\n",
    "M = m_r + m_d"
   ]
  },
  {
   "cell_type": "code",
   "execution_count": 11,
   "id": "f4da6d0a-d6cf-45b4-bc69-251ec7dd1f62",
   "metadata": {},
   "outputs": [],
   "source": [
    "l_p = ufloat(.58221, .00005)\n",
    "hole = ufloat(.00845, .00005)"
   ]
  },
  {
   "cell_type": "code",
   "execution_count": 12,
   "id": "7d50dffa-490f-41ef-8e24-edc9cd10cd21",
   "metadata": {},
   "outputs": [],
   "source": [
    "cm_r = d_r/2 - hole\n",
    "cm_d = l_p + l_d/2\n",
    "\n",
    "cm = (m_r*cm_r + m_d*cm_d)/(m_r + m_d)"
   ]
  },
  {
   "cell_type": "markdown",
   "id": "19cc93b8-e2e8-4441-8df2-f67dd24814c9",
   "metadata": {},
   "source": [
    "#### 2"
   ]
  },
  {
   "cell_type": "code",
   "execution_count": 16,
   "id": "50dcfb98-0900-4c2b-a9c0-cdb2eb34b3e0",
   "metadata": {},
   "outputs": [
    {
     "name": "stdout",
     "output_type": "stream",
     "text": [
      "Estimated period = 1.50635+/-0.00007 sec\n"
     ]
    }
   ],
   "source": [
    "T = 2*np.pi*(cm/9.81)**(1/2)\n",
    "print(\"Estimated period =\", T, \"sec\")"
   ]
  },
  {
   "cell_type": "markdown",
   "id": "0205d96b-bd46-4a23-8263-60ad7101f743",
   "metadata": {},
   "source": [
    "#### 3"
   ]
  },
  {
   "cell_type": "code",
   "execution_count": 17,
   "id": "05f941fe-585c-4edf-8a09-666a5476dfc7",
   "metadata": {},
   "outputs": [
    {
     "name": "stdout",
     "output_type": "stream",
     "text": [
      "Average period = 1.364 sec\n"
     ]
    }
   ],
   "source": [
    "per_10 = np.array([1.35, 1.28, 1.32, 1.31, 1.41, 1.31, 1.43, 1.41, 1.41, 1.41])\n",
    "per_avg = np.mean(per_10)\n",
    "print(\"Average period =\", per_avg, \"sec\")"
   ]
  },
  {
   "cell_type": "markdown",
   "id": "0bb138ff-e44e-469a-828f-3c29bed7d2cc",
   "metadata": {},
   "source": [
    "#### 4"
   ]
  },
  {
   "cell_type": "code",
   "execution_count": 18,
   "id": "a347d5c7-4847-44bc-8b73-1e0d773468fd",
   "metadata": {},
   "outputs": [
    {
     "name": "stdout",
     "output_type": "stream",
     "text": [
      "g prediction = 11.9644+/-0.0011 m/s^2\n"
     ]
    }
   ],
   "source": [
    "g_exp = 4*np.pi**2*cm/per_avg**2\n",
    "print(\"g prediction =\", g_exp, \"m/s^2\")"
   ]
  },
  {
   "cell_type": "markdown",
   "id": "f4a17f3c",
   "metadata": {},
   "source": [
    "This value of g makes sense and is on the right order of magnitude."
   ]
  },
  {
   "cell_type": "markdown",
   "id": "be3a5ea2-7c5c-4c44-a142-b52d797c3c6e",
   "metadata": {},
   "source": [
    "#### 5"
   ]
  },
  {
   "cell_type": "code",
   "execution_count": 19,
   "id": "cb541f48-7067-411d-abad-8e8745ba37f9",
   "metadata": {},
   "outputs": [],
   "source": [
    "I_r = (1/4)*m_r*(d_r)**2 + (1/12)*m_r*l_r**2 + m_r*cm_r**2\n",
    "I_d = (1/4)*m_d*(d_d)**2 + (1/12)*m_d*l_d**2 + m_d*cm_d**2\n",
    "I = I_r + I_d"
   ]
  },
  {
   "cell_type": "code",
   "execution_count": 20,
   "id": "921b2350-fbd9-47f0-92d7-a1eac9bcc642",
   "metadata": {},
   "outputs": [
    {
     "name": "stdout",
     "output_type": "stream",
     "text": [
      "Moment of Inertia for Rod = 0.017578+/-0.000010 kg m^2\n",
      "Moment of Inertia for Disk = 0.36062+/-0.00007 kg m^2\n",
      "\n",
      "Total Moment of Inertia = 0.37820+/-0.00007 kg m^2\n"
     ]
    }
   ],
   "source": [
    "print(\"Moment of Inertia for Rod =\", I_r, \"kg m^2\")\n",
    "print(\"Moment of Inertia for Disk =\", I_d, \"kg m^2\")\n",
    "print(\"\")\n",
    "print(\"Total Moment of Inertia =\", I, \"kg m^2\")"
   ]
  },
  {
   "cell_type": "markdown",
   "id": "504067ce-5592-4a63-bd29-036d2e932eae",
   "metadata": {},
   "source": [
    "#### 6"
   ]
  },
  {
   "cell_type": "code",
   "execution_count": 21,
   "id": "74d0066f-0bb0-4a10-a92a-1d3e9ad981ad",
   "metadata": {},
   "outputs": [],
   "source": [
    "#data is organized as [angle, avg period]\n",
    "#acg period was calculated by timing 20 oscillations and dividing by 20\n",
    "per_20 = np.array([[5, 1.516], [10, 1.538], [30, 1.557], [50, 1.601]])"
   ]
  },
  {
   "cell_type": "markdown",
   "id": "48320bf2-6c1b-4bfe-8e69-f1aa43add393",
   "metadata": {},
   "source": [
    "The small angle approximation started to become inaccurate after $5^\\circ$ since the period grows substantially."
   ]
  },
  {
   "cell_type": "markdown",
   "id": "37087ea0-38f6-440b-a9e2-fa52e1b78afe",
   "metadata": {},
   "source": [
    "#### 7"
   ]
  },
  {
   "cell_type": "code",
   "execution_count": 22,
   "id": "296b174f-5755-41c9-8390-bf850a97e62a",
   "metadata": {},
   "outputs": [],
   "source": [
    "L = 0.772\n",
    "R = 6371\n",
    "w = 2*np.pi/(3600*24)"
   ]
  },
  {
   "cell_type": "code",
   "execution_count": 23,
   "id": "c4eeeb2c-7e06-4fe6-ac05-e62bb2d0ac9c",
   "metadata": {},
   "outputs": [],
   "source": [
    "a_cen = w**2*R*np.cos(L)**2"
   ]
  },
  {
   "cell_type": "code",
   "execution_count": 24,
   "id": "e1e86b32-0874-45d3-81be-ada7eba19885",
   "metadata": {},
   "outputs": [
    {
     "ename": "NameError",
     "evalue": "name 'g' is not defined",
     "output_type": "error",
     "traceback": [
      "\u001b[1;31m---------------------------------------------------------------------------\u001b[0m",
      "\u001b[1;31mNameError\u001b[0m                                 Traceback (most recent call last)",
      "\u001b[1;32m~\\AppData\\Local\\Temp/ipykernel_21620/1705033757.py\u001b[0m in \u001b[0;36m<module>\u001b[1;34m\u001b[0m\n\u001b[1;32m----> 1\u001b[1;33m \u001b[0mT_2\u001b[0m \u001b[1;33m=\u001b[0m \u001b[1;36m2\u001b[0m\u001b[1;33m*\u001b[0m\u001b[0mnp\u001b[0m\u001b[1;33m.\u001b[0m\u001b[0mpi\u001b[0m\u001b[1;33m*\u001b[0m\u001b[1;33m(\u001b[0m\u001b[0mcm\u001b[0m\u001b[1;33m/\u001b[0m\u001b[1;33m(\u001b[0m\u001b[0mg\u001b[0m\u001b[1;33m+\u001b[0m\u001b[0ma_cen\u001b[0m\u001b[1;33m)\u001b[0m\u001b[1;33m)\u001b[0m\u001b[1;33m**\u001b[0m\u001b[1;33m(\u001b[0m\u001b[1;36m1\u001b[0m\u001b[1;33m/\u001b[0m\u001b[1;36m2\u001b[0m\u001b[1;33m)\u001b[0m\u001b[1;33m\u001b[0m\u001b[1;33m\u001b[0m\u001b[0m\n\u001b[0m\u001b[0;32m      2\u001b[0m \u001b[0mT_diff\u001b[0m \u001b[1;33m=\u001b[0m \u001b[0mabs\u001b[0m\u001b[1;33m(\u001b[0m\u001b[0mT_2\u001b[0m \u001b[1;33m-\u001b[0m \u001b[0mT\u001b[0m\u001b[1;33m)\u001b[0m \u001b[1;31m# difference between period calculations with and without centripetal acceleration\u001b[0m\u001b[1;33m\u001b[0m\u001b[1;33m\u001b[0m\u001b[0m\n",
      "\u001b[1;31mNameError\u001b[0m: name 'g' is not defined"
     ]
    }
   ],
   "source": [
    "T_2 = 2*np.pi*(cm/(9.81+a_cen))**(1/2)\n",
    "T_diff = abs(T_2 - T) # difference between period calculations with and without centripetal acceleration"
   ]
  },
  {
   "cell_type": "code",
   "execution_count": 25,
   "id": "bcacd18c-e438-4230-b37d-7c96bd7e3749",
   "metadata": {},
   "outputs": [
    {
     "ename": "NameError",
     "evalue": "name 'T_diff' is not defined",
     "output_type": "error",
     "traceback": [
      "\u001b[1;31m---------------------------------------------------------------------------\u001b[0m",
      "\u001b[1;31mNameError\u001b[0m                                 Traceback (most recent call last)",
      "\u001b[1;32m~\\AppData\\Local\\Temp/ipykernel_21620/2373398069.py\u001b[0m in \u001b[0;36m<module>\u001b[1;34m\u001b[0m\n\u001b[1;32m----> 1\u001b[1;33m \u001b[0mprint\u001b[0m\u001b[1;33m(\u001b[0m\u001b[1;34m\"The uncertainty would have to be equal or smaller than\"\u001b[0m\u001b[1;33m,\u001b[0m \u001b[0mT_diff\u001b[0m\u001b[1;33m.\u001b[0m\u001b[0mnominal_value\u001b[0m\u001b[1;33m)\u001b[0m\u001b[1;33m\u001b[0m\u001b[1;33m\u001b[0m\u001b[0m\n\u001b[0m",
      "\u001b[1;31mNameError\u001b[0m: name 'T_diff' is not defined"
     ]
    }
   ],
   "source": [
    "print(\"The uncertainty would have to be equal or smaller than\", T_diff.nominal_value)"
   ]
  },
  {
   "cell_type": "markdown",
   "id": "ab1343ab",
   "metadata": {},
   "source": [
    "#### 8\n",
    "The encoder is set to 2000 ticks per rev. This makes the output in $0.18^\\circ/tick$ "
   ]
  },
  {
   "cell_type": "markdown",
   "id": "4e2627d7",
   "metadata": {},
   "source": [
    "#### 9\n",
    "dropped from $10^\\circ$\n",
    "\n",
    "left-right wobble decreases substantially after a few seconds. Data was taken after the path of the pendulum was stable."
   ]
  },
  {
   "cell_type": "code",
   "execution_count": null,
   "id": "3b6f2b98",
   "metadata": {},
   "outputs": [],
   "source": [
    "#open data from testdata1.csv\n",
    "data = np.genfromtxt('testdata1.csv', delimiter=',')\n",
    "times = data[:,0]\n",
    "angles = data[:,1]*0.18\n",
    "maxangle  = np.max(angles)\n",
    "minangle = np.min(angles)\n",
    "mid = (maxangle + minangle)/2\n",
    "angles = angles - mid\n",
    "plt.plot(times, angles)\n",
    "plt.show()\n",
    "\n",
    "data2 = np.genfromtxt('testdata2.csv', delimiter=',')\n",
    "times2 = data2[:,0]\n",
    "angles2 = data2[:,1]*0.18\n",
    "maxangle2  = np.max(angles2)\n",
    "minangle2 = np.min(angles2)\n",
    "mid2 = (maxangle2 + minangle2)/2\n",
    "angles2 = angles2 - mid2\n",
    "plt.plot(times2, angles2)\n",
    "plt.show()\n",
    "\n",
    "data3 = np.genfromtxt('testdata3.csv', delimiter=',')\n",
    "times3 = data3[:,0]\n",
    "angles3 = data3[:,1]*0.18\n",
    "maxangle3  = np.max(angles3)\n",
    "minangle3 = np.min(angles3)\n",
    "mid3 = (maxangle3 + minangle3)/2\n",
    "angles3 = angles3 - mid3\n",
    "plt.plot(times3, angles3)\n",
    "plt.show()\n",
    "\n",
    "data4 = np.genfromtxt('testdata4.csv', delimiter=',')\n",
    "times4 = data4[:,0]\n",
    "angles4 = data4[:,1]*0.18\n",
    "maxangle4  = np.max(angles4)\n",
    "minangle4 = np.min(angles4)\n",
    "mid4 = (maxangle4 + minangle4)/2\n",
    "angles4 = angles4 - mid4\n",
    "plt.plot(times4, angles4)\n",
    "plt.show()\n"
   ]
  },
  {
   "cell_type": "code",
   "execution_count": null,
   "id": "8fa1cd07",
   "metadata": {},
   "outputs": [],
   "source": [
    "from scipy.optimize import curve_fit\n",
    "def fitfunc(t, A, w, phi, Tdamp, C):\n",
    "    return A*np.sin(w*t + phi)*np.exp(-t/Tdamp) + C\n",
    "\n",
    "popt, pcov = curve_fit(fitfunc, times, angles, p0=[12, 2*np.pi/1.5, 0, 0.1, 0])\n",
    "plt.plot(times, angles, 'b-', label='data')\n",
    "plt.plot(times, fitfunc(times, *popt), 'r-', label='fit')\n",
    "#print the eqn\n",
    "print(\"y = \", popt[0], \"*sin(\", popt[1], \"*t + \", popt[2], \")*exp(-t/\", popt[3], \") + \", popt[4])\n",
    "#calculate chi squared and adjusted chi squared\n",
    "chi2 = np.sum(((fitfunc(times, *popt) - angles)/0.1)**2)\n",
    "dof = len(times) - len(popt)\n",
    "chi2red = chi2/dof\n",
    "print(\"chi squared =\", chi2)\n",
    "print(\"adjusted chi squared =\", chi2red)"
   ]
  },
  {
   "cell_type": "code",
   "execution_count": null,
   "id": "284f7bfa",
   "metadata": {},
   "outputs": [],
   "source": [
    "popt, pcov = curve_fit(fitfunc, times2, angles2, p0=[12, 2*np.pi/1.5, 0, 0.1, 0])\n",
    "plt.plot(times2, angles2, 'b-', label='data')\n",
    "plt.plot(times2, fitfunc(times2, *popt), 'r-', label='fit')\n",
    "#print the eqn\n",
    "print(\"y = \", popt[0], \"*sin(\", popt[1], \"*t + \", popt[2], \")*exp(-t/\", popt[3], \") + \", popt[4])\n",
    "#calculate chi squared and adjusted chi squared\n",
    "chi2 = np.sum(((fitfunc(times2, *popt) - angles2)/0.1)**2)\n",
    "dof = len(times2) - len(popt)\n",
    "chi2red = chi2/dof\n",
    "print(\"chi squared =\", chi2)\n",
    "print(\"adjusted chi squared =\", chi2red)\n",
    "w = ufloat(popt[1], np.sqrt(pcov[1,1]))"
   ]
  },
  {
   "cell_type": "code",
   "execution_count": null,
   "id": "133fa259",
   "metadata": {},
   "outputs": [],
   "source": [
    "popt,pcov = curve_fit(fitfunc, times3, angles3, p0=[12, 2*np.pi/1.5, np.pi, 0.001, 0])\n",
    "plt.plot(times3, angles3, 'b-', label='data')\n",
    "plt.plot(times3, fitfunc(times3, *popt), 'r-', label='fit')\n",
    "#print the eqn\n",
    "print(\"y = \", popt[0], \"*sin(\", popt[1], \"*t + \", popt[2], \")*exp(-t/\", popt[3], \") + \", popt[4])\n",
    "#calculate chi squared and adjusted chi squared\n",
    "chi2 = np.sum(((fitfunc(times3, *popt) - angles3)/0.1)**2)\n",
    "dof = len(times3) - len(popt)\n",
    "chi2red = chi2/dof\n",
    "print(\"chi squared =\", chi2)\n",
    "print(\"adjusted chi squared =\", chi2red)"
   ]
  },
  {
   "cell_type": "markdown",
   "id": "c2ef4cd6",
   "metadata": {},
   "source": [
    "Error with the fit function"
   ]
  },
  {
   "cell_type": "code",
   "execution_count": null,
   "id": "de383dc5",
   "metadata": {},
   "outputs": [],
   "source": [
    "popt, pcov = curve_fit(fitfunc, times4, angles4, p0=[12, 2*np.pi/1.5, 0, 0.1, 0])\n",
    "plt.plot(times4, angles4, 'b-', label='data')\n",
    "plt.plot(times4, fitfunc(times4, *popt), 'r-', label='fit')\n",
    "#print the eqn\n",
    "print(\"y = \", popt[0], \"*sin(\", popt[1], \"*t + \", popt[2], \")*exp(-t/\", popt[3], \") + \", popt[4])\n",
    "#calculate chi squared and adjusted chi squared\n",
    "chi2 = np.sum(((fitfunc(times4, *popt) - angles4)/0.1)**2)\n",
    "dof = len(times4) - len(popt)\n",
    "chi2red = chi2/dof\n",
    "print(\"chi squared =\", chi2)\n",
    "print(\"adjusted chi squared =\", chi2red)"
   ]
  },
  {
   "cell_type": "markdown",
   "id": "23d53fab",
   "metadata": {},
   "source": [
    "Error with the fit function"
   ]
  },
  {
   "cell_type": "markdown",
   "id": "dedfd838",
   "metadata": {},
   "source": [
    "#### 11\n",
    "The accepted value of g in Kingston is 9.805502389054098 m/s^2"
   ]
  },
  {
   "cell_type": "code",
   "execution_count": null,
   "id": "b39d1db9",
   "metadata": {},
   "outputs": [],
   "source": [
    "phi = 44.23 * np.pi/180\n",
    "g = 9.7803267714*(1 + 0.00193185138639*np.sin(phi)**2)/(np.sqrt(1 - 0.00669437999013 * np.sin(phi)**2))\n",
    "print(\"g =\", g)"
   ]
  },
  {
   "cell_type": "markdown",
   "id": "3251da67",
   "metadata": {},
   "source": [
    "#### 12\n",
    "The fits are pretty good as the adjusted $\\chi^2$ was 1.1177528292087666 and 1.8883218228639613. It think this means that the fit function is good. "
   ]
  },
  {
   "cell_type": "markdown",
   "id": "cb371f58",
   "metadata": {},
   "source": [
    "#### 13\n",
    "Using $\\omega$ = 4.096638069227808, g = 9.9874+/-0.0010."
   ]
  },
  {
   "cell_type": "code",
   "execution_count": null,
   "id": "f128b318",
   "metadata": {},
   "outputs": [],
   "source": [
    "g = w**2 * I /(M * cm)\n",
    "print(\"g =\", g, \"m/s^2\")"
   ]
  },
  {
   "cell_type": "markdown",
   "id": "cc0c9413",
   "metadata": {},
   "source": [
    "#### 14 \n",
    "Our result does not agree with g. I think that the experiment doesn't agree because of an error in the model."
   ]
  }
 ],
 "metadata": {
  "kernelspec": {
   "display_name": "Python 3 (ipykernel)",
   "language": "python",
   "name": "python3"
  },
  "language_info": {
   "codemirror_mode": {
    "name": "ipython",
    "version": 3
   },
   "file_extension": ".py",
   "mimetype": "text/x-python",
   "name": "python",
   "nbconvert_exporter": "python",
   "pygments_lexer": "ipython3",
   "version": "3.9.7"
  },
  "vscode": {
   "interpreter": {
    "hash": "578e34faf9048d67141d94870028f15481dd09c96cadbed5a1d53fe25c9c5b8f"
   }
  }
 },
 "nbformat": 4,
 "nbformat_minor": 5
}
