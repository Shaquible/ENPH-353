{
 "cells": [
  {
   "cell_type": "markdown",
   "id": "108ea3be-a58a-476e-853f-7620e208d736",
   "metadata": {},
   "source": [
    "## Calculations"
   ]
  },
  {
   "cell_type": "code",
   "execution_count": 16,
   "id": "37dd1fa2-f64d-4315-a7c6-4065921f0456",
   "metadata": {},
   "outputs": [],
   "source": [
    "import numpy as np"
   ]
  },
  {
   "cell_type": "code",
   "execution_count": 17,
   "id": "164170a3-f17d-4639-b69a-147ef8f5c911",
   "metadata": {},
   "outputs": [],
   "source": [
    "from uncertainties import ufloat\n",
    "from uncertainties.umath import *"
   ]
  },
  {
   "cell_type": "code",
   "execution_count": 18,
   "id": "d424fd0e-1cc5-4088-b689-fdb52e2b1897",
   "metadata": {},
   "outputs": [],
   "source": [
    "g = 9.81"
   ]
  },
  {
   "cell_type": "markdown",
   "id": "339cfac6-9377-4c86-ad74-52787e15b810",
   "metadata": {},
   "source": [
    "#### 1"
   ]
  },
  {
   "cell_type": "code",
   "execution_count": 19,
   "id": "3300598a-c0f1-449e-bb91-2231c626d2b5",
   "metadata": {},
   "outputs": [],
   "source": [
    "l_r = ufloat(.00895, .00005)\n",
    "d_r = ufloat(.60041, .00005)\n",
    "m_r = ufloat(.10030, .00005)\n",
    "l_d = ufloat(.01643, .00005)\n",
    "d_d = ufloat(.10170, .00005)\n",
    "m_d = ufloat(1.0268, .00005)"
   ]
  },
  {
   "cell_type": "code",
   "execution_count": 20,
   "id": "f4da6d0a-d6cf-45b4-bc69-251ec7dd1f62",
   "metadata": {},
   "outputs": [],
   "source": [
    "l_p = ufloat(.58221, .00005)\n",
    "hole = ufloat(.00845, .00005)"
   ]
  },
  {
   "cell_type": "code",
   "execution_count": 21,
   "id": "7d50dffa-490f-41ef-8e24-edc9cd10cd21",
   "metadata": {},
   "outputs": [],
   "source": [
    "cm_r = d_r/2 - hole\n",
    "cm_d = l_p + l_d/2\n",
    "\n",
    "cm = (m_r*cm_r + m_d*cm_d)/(m_r + m_d)"
   ]
  },
  {
   "cell_type": "markdown",
   "id": "19cc93b8-e2e8-4441-8df2-f67dd24814c9",
   "metadata": {},
   "source": [
    "#### 2"
   ]
  },
  {
   "cell_type": "code",
   "execution_count": 22,
   "id": "50dcfb98-0900-4c2b-a9c0-cdb2eb34b3e0",
   "metadata": {},
   "outputs": [
    {
     "name": "stdout",
     "output_type": "stream",
     "text": [
      "Estimated period = 1.50635+/-0.00007 sec\n"
     ]
    }
   ],
   "source": [
    "T = 2*np.pi*(cm/g)**(1/2)\n",
    "print(\"Estimated period =\", T, \"sec\")"
   ]
  },
  {
   "cell_type": "markdown",
   "id": "0205d96b-bd46-4a23-8263-60ad7101f743",
   "metadata": {},
   "source": [
    "#### 3"
   ]
  },
  {
   "cell_type": "code",
   "execution_count": 23,
   "id": "05f941fe-585c-4edf-8a09-666a5476dfc7",
   "metadata": {},
   "outputs": [
    {
     "name": "stdout",
     "output_type": "stream",
     "text": [
      "Average period = 1.364 sec\n"
     ]
    }
   ],
   "source": [
    "per_10 = np.array([1.35, 1.28, 1.32, 1.31, 1.41, 1.31, 1.43, 1.41, 1.41, 1.41])\n",
    "per_avg = np.mean(per_10)\n",
    "print(\"Average period =\", per_avg, \"sec\")"
   ]
  },
  {
   "cell_type": "markdown",
   "id": "0bb138ff-e44e-469a-828f-3c29bed7d2cc",
   "metadata": {},
   "source": [
    "#### 4"
   ]
  },
  {
   "cell_type": "code",
   "execution_count": 24,
   "id": "a347d5c7-4847-44bc-8b73-1e0d773468fd",
   "metadata": {},
   "outputs": [
    {
     "name": "stdout",
     "output_type": "stream",
     "text": [
      "g prediction = 11.9644+/-0.0011 m/s^2\n"
     ]
    }
   ],
   "source": [
    "g_exp = 4*np.pi**2*cm/per_avg**2\n",
    "print(\"g prediction =\", g_exp, \"m/s^2\")"
   ]
  },
  {
   "cell_type": "markdown",
   "id": "be3a5ea2-7c5c-4c44-a142-b52d797c3c6e",
   "metadata": {},
   "source": [
    "#### 5"
   ]
  },
  {
   "cell_type": "code",
   "execution_count": 25,
   "id": "cb541f48-7067-411d-abad-8e8745ba37f9",
   "metadata": {},
   "outputs": [],
   "source": [
    "I_r = (1/4)*m_r*(d_r)**2 + (1/12)*m_r*l_r**2 + m_r*cm_r**2\n",
    "I_d = (1/4)*m_d*(d_d)**2 + (1/12)*m_d*l_d**2 + m_d*cm_d**2\n",
    "I = I_r + I_d"
   ]
  },
  {
   "cell_type": "code",
   "execution_count": 26,
   "id": "921b2350-fbd9-47f0-92d7-a1eac9bcc642",
   "metadata": {},
   "outputs": [
    {
     "name": "stdout",
     "output_type": "stream",
     "text": [
      "Moment of Inertia for Rod = 0.017578+/-0.000010 kg m^2\n",
      "Moment of Inertia for Disk = 0.36062+/-0.00007 kg m^2\n",
      "\n",
      "Total Moment of Inertia = 0.37820+/-0.00007 kg m^2\n"
     ]
    }
   ],
   "source": [
    "print(\"Moment of Inertia for Rod =\", I_r, \"kg m^2\")\n",
    "print(\"Moment of Inertia for Disk =\", I_d, \"kg m^2\")\n",
    "print(\"\")\n",
    "print(\"Total Moment of Inertia =\", I, \"kg m^2\")"
   ]
  },
  {
   "cell_type": "markdown",
   "id": "504067ce-5592-4a63-bd29-036d2e932eae",
   "metadata": {},
   "source": [
    "#### 6"
   ]
  },
  {
   "cell_type": "code",
   "execution_count": 27,
   "id": "74d0066f-0bb0-4a10-a92a-1d3e9ad981ad",
   "metadata": {},
   "outputs": [],
   "source": [
    "per_20 = np.array([[5, 1.516], [10, 1.538], [30, 1.557], [50, 1.601]])"
   ]
  },
  {
   "cell_type": "markdown",
   "id": "48320bf2-6c1b-4bfe-8e69-f1aa43add393",
   "metadata": {},
   "source": [
    "The small angle approximation started to become innacurate when the initial angle was around "
   ]
  },
  {
   "cell_type": "markdown",
   "id": "37087ea0-38f6-440b-a9e2-fa52e1b78afe",
   "metadata": {},
   "source": [
    "#### 7"
   ]
  },
  {
   "cell_type": "code",
   "execution_count": 28,
   "id": "296b174f-5755-41c9-8390-bf850a97e62a",
   "metadata": {},
   "outputs": [],
   "source": [
    "L = 0.772\n",
    "R = 6371\n",
    "w = 2*np.pi/(3600*24)"
   ]
  },
  {
   "cell_type": "code",
   "execution_count": 29,
   "id": "c4eeeb2c-7e06-4fe6-ac05-e62bb2d0ac9c",
   "metadata": {},
   "outputs": [],
   "source": [
    "a_cen = w**2*R*np.cos(L)**2"
   ]
  },
  {
   "cell_type": "code",
   "execution_count": 30,
   "id": "e1e86b32-0874-45d3-81be-ada7eba19885",
   "metadata": {},
   "outputs": [],
   "source": [
    "T_2 = 2*np.pi*(cm/(g+a_cen))**(1/2)\n",
    "T_diff = abs(T_2 - T) # difference between period calculations with and without centripetal acceleration"
   ]
  },
  {
   "cell_type": "code",
   "execution_count": 31,
   "id": "bcacd18c-e438-4230-b37d-7c96bd7e3749",
   "metadata": {},
   "outputs": [
    {
     "name": "stdout",
     "output_type": "stream",
     "text": [
      "The uncertainty would have to be equal or smaller than 1.3280641455448716e-06\n"
     ]
    }
   ],
   "source": [
    "print(\"The uncertainty would have to be equal or smaller than\", T_diff.nominal_value)"
   ]
  },
  {
   "cell_type": "markdown",
   "id": "b86e3e89-cf3c-4a63-a958-872d8cf745f9",
   "metadata": {},
   "source": [
    "## Tests"
   ]
  },
  {
   "cell_type": "code",
   "execution_count": 32,
   "id": "67bf53ab-1da6-4a79-aea8-41d9290f9d17",
   "metadata": {},
   "outputs": [
    {
     "data": {
      "text/plain": [
       "1.7297877262869492e-05"
      ]
     },
     "execution_count": 32,
     "metadata": {},
     "output_type": "execute_result"
    }
   ],
   "source": [
    "a_cen"
   ]
  },
  {
   "cell_type": "code",
   "execution_count": null,
   "id": "c9c60ec0-7ba9-44ae-a13e-d5f80f75a858",
   "metadata": {},
   "outputs": [],
   "source": []
  }
 ],
 "metadata": {
  "kernelspec": {
   "display_name": "Python 3.9.7 ('base')",
   "language": "python",
   "name": "python3"
  },
  "language_info": {
   "codemirror_mode": {
    "name": "ipython",
    "version": 3
   },
   "file_extension": ".py",
   "mimetype": "text/x-python",
   "name": "python",
   "nbconvert_exporter": "python",
   "pygments_lexer": "ipython3",
   "version": "3.9.7"
  },
  "vscode": {
   "interpreter": {
    "hash": "578e34faf9048d67141d94870028f15481dd09c96cadbed5a1d53fe25c9c5b8f"
   }
  }
 },
 "nbformat": 4,
 "nbformat_minor": 5
}
