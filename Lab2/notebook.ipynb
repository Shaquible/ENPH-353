{
 "cells": [
  {
   "cell_type": "markdown",
   "metadata": {},
   "source": [
    "#### 1"
   ]
  },
  {
   "cell_type": "code",
   "execution_count": 25,
   "metadata": {},
   "outputs": [
    {
     "name": "stdout",
     "output_type": "stream",
     "text": [
      "Gain =  (8.2+/-0.7)e+12 F^-1\n"
     ]
    }
   ],
   "source": [
    "import numpy as np\n",
    "import matplotlib.pyplot as plt\n",
    "import uncertainties\n",
    "\n",
    "R1 = uncertainties.ufloat(10000, 0.05*10000)\n",
    "R2 = uncertainties.ufloat(82000, 0.05*82000)\n",
    "Cf = uncertainties.ufloat(10**(-12), 0.05*10**(-12))\n",
    "G2 = R2/R1/Cf\n",
    "print(\"Gain = \", G2, \"F^-1\")\n"
   ]
  },
  {
   "cell_type": "markdown",
   "metadata": {},
   "source": [
    "#### 2"
   ]
  },
  {
   "cell_type": "code",
   "execution_count": 33,
   "metadata": {},
   "outputs": [
    {
     "name": "stdout",
     "output_type": "stream",
     "text": [
      "Vpp =  1.90+/-0.16 V\n"
     ]
    }
   ],
   "source": [
    "G1 = uncertainties.ufloat(0.264, 0.001)\n",
    "E_alpha = uncertainties.ufloat(5.486, 0.001)\n",
    "#conversion factor from MeV to J\n",
    "Vpp = G1*G2*E_alpha*1.60218*10**(-13)\n",
    "print(\"Vpp = \", Vpp, \"V\")"
   ]
  },
  {
   "cell_type": "markdown",
   "metadata": {},
   "source": [
    "#### 3"
   ]
  },
  {
   "cell_type": "code",
   "execution_count": 37,
   "metadata": {},
   "outputs": [
    {
     "data": {
      "image/png": "[encoded data removed]",
      "text/plain": [
       "<Figure size 432x288 with 1 Axes>"
      ]
     },
     "metadata": {
      "needs_background": "light"
     },
     "output_type": "display_data"
    },
    {
     "data": {
      "image/png": "[encoded data removed]",
      "text/plain": [
       "<Figure size 432x288 with 1 Axes>"
      ]
     },
     "metadata": {
      "needs_background": "light"
     },
     "output_type": "display_data"
    }
   ],
   "source": [
    "from locale import normalize\n",
    "\n",
    "\n",
    "t = np.array([485,531,476,496,509,518,435,394,365,611])*10**(-3)\n",
    "#normalized histogram\n",
    "plt.hist(t, bins=5, density=True)\n",
    "plt.xlabel(\"Voltage (V)\")\n",
    "plt.ylabel(\"Frequency\")\n",
    "plt.show()\n",
    "tMeV = np.array(t)/G1.n/G2.n/1.60218/10**(-13)\n",
    "plt.hist(tMeV, bins=5, density=True)\n",
    "plt.xlabel(\"Energy (eV)\")\n",
    "plt.ylabel(\"Frequency\")\n",
    "plt.show()\n"
   ]
  }
 ],
 "metadata": {
  "kernelspec": {
   "display_name": "Python 3.9.7 ('base')",
   "language": "python",
   "name": "python3"
  },
  "language_info": {
   "codemirror_mode": {
    "name": "ipython",
    "version": 3
   },
   "file_extension": ".py",
   "mimetype": "text/x-python",
   "name": "python",
   "nbconvert_exporter": "python",
   "pygments_lexer": "ipython3",
   "version": "3.9.7"
  },
  "orig_nbformat": 4,
  "vscode": {
   "interpreter": {
    "hash": "578e34faf9048d67141d94870028f15481dd09c96cadbed5a1d53fe25c9c5b8f"
   }
  }
 },
 "nbformat": 4,
 "nbformat_minor": 2
}
