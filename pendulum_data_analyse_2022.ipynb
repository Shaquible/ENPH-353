{
 "cells": [
  {
   "cell_type": "code",
   "execution_count": null,
   "metadata": {},
   "outputs": [],
   "source": [
    "import matplotlib.pyplot as plt;\n",
    "import numpy as np\n",
    "import scipy.optimize as opt\n",
    "plt.rcParams['figure.figsize'] = [15, 10]\n",
    "import uncertainties as u"
   ]
  },
  {
   "cell_type": "code",
   "execution_count": null,
   "metadata": {},
   "outputs": [],
   "source": [
    "rawData = np.genfromtxt('Pendulum Data Trial 3.csv',dtype='float',delimiter=',',unpack=True)\n",
    "print(rawData)"
   ]
  },
  {
   "cell_type": "code",
   "execution_count": null,
   "metadata": {},
   "outputs": [],
   "source": [
    "print(rawData[0])"
   ]
  },
  {
   "cell_type": "code",
   "execution_count": null,
   "metadata": {},
   "outputs": [],
   "source": [
    "time = rawData[0]\n",
    "angle = rawData[1]\n",
    "yUnc = np.full((angle.size),0.5)"
   ]
  },
  {
   "cell_type": "code",
   "execution_count": null,
   "metadata": {},
   "outputs": [],
   "source": [
    "plt.errorbar(time,angle,yerr=yUnc)\n",
    "plt.xlabel('Sample',fontsize=14)\n",
    "plt.ylabel('Encoder Step',fontsize=14)\n",
    "#plt.xlim(500,600)\n",
    "#plt.ylim(-400,0)"
   ]
  },
  {
   "cell_type": "code",
   "execution_count": null,
   "metadata": {},
   "outputs": [],
   "source": [
    "def pendulumModel(x, *par):\n",
    "    return par[0]*np.exp(-par[1]*x)* np.sin(par[2]*x+par[3])+par[4]"
   ]
  },
  {
   "cell_type": "code",
   "execution_count": null,
   "metadata": {},
   "outputs": [],
   "source": [
    "par0 = [50,1,4,1,-50]\n",
    "fitParams,fitCovariance = opt.curve_fit(pendulumModel,time,angle,par0,sigma=yUnc)"
   ]
  },
  {
   "cell_type": "code",
   "execution_count": null,
   "metadata": {},
   "outputs": [],
   "source": [
    "#fitCheck = pendulumModel(time,fitParams[0],fitParams[1],fitParams[2],fitParams[3],fitParams[4])\n",
    "fitCheck = pendulumModel(time,*fitParams)"
   ]
  },
  {
   "cell_type": "code",
   "execution_count": null,
   "metadata": {},
   "outputs": [],
   "source": [
    "plt.plot(time,angle,'r-',label='Data')\n",
    "plt.plot(time,fitCheck,'b--',label='Fit')\n",
    "plt.xlabel('Sample',fontsize=14)\n",
    "plt.ylabel('Encoder Step',fontsize=14)\n",
    "plt.legend()"
   ]
  },
  {
   "cell_type": "code",
   "execution_count": null,
   "metadata": {},
   "outputs": [],
   "source": [
    "resid = angle-fitCheck\n",
    "plt.plot(time,resid)\n",
    "plt.xlabel('Sample',fontsize=14)\n",
    "plt.ylabel('Fit residual',fontsize=14)"
   ]
  },
  {
   "cell_type": "code",
   "execution_count": null,
   "metadata": {},
   "outputs": [],
   "source": [
    "for par in range(fitParams.size):\n",
    "    print('Parameter',par,':',fitParams[par],'+/-',np.sqrt(fitCovariance[par,par]))"
   ]
  }
 ],
 "metadata": {
  "kernelspec": {
   "display_name": "Python 3 (ipykernel)",
   "language": "python",
   "name": "python3"
  },
  "language_info": {
   "codemirror_mode": {
    "name": "ipython",
    "version": 3
   },
   "file_extension": ".py",
   "mimetype": "text/x-python",
   "name": "python",
   "nbconvert_exporter": "python",
   "pygments_lexer": "ipython3",
   "version": "3.9.7"
  }
 },
 "nbformat": 4,
 "nbformat_minor": 4
}
